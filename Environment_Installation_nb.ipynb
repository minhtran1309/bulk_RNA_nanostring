{
 "cells": [
  {
   "cell_type": "markdown",
   "id": "155acf08",
   "metadata": {},
   "source": [
    "## it's always a headach to intall R packages. \n",
    "\n",
    "This is the notebook to install required packages for the analysis"
   ]
  },
  {
   "cell_type": "code",
   "execution_count": 1,
   "id": "9f2c0707",
   "metadata": {},
   "outputs": [
    {
     "name": "stderr",
     "output_type": "stream",
     "text": [
      "Updating HTML index of packages in '.Library'\n",
      "\n",
      "Making 'packages.html' ...\n",
      " done\n",
      "\n"
     ]
    }
   ],
   "source": [
    "if (!requireNamespace(\"BiocManager\", quietly=TRUE))\n",
    "    install.packages(\"BiocManager\")"
   ]
  },
  {
   "cell_type": "markdown",
   "id": "119674ad",
   "metadata": {},
   "source": [
    "### install NanostringNCTools\n",
    "\n",
    "#### used to analyse Ncounter data\n",
    "\n",
    "https://bioconductor.org/packages/release/bioc/vignettes/NanoStringNCTools/inst/doc/Introduction.html\n",
    "\n",
    "BiocManager::install(\"NanoStringNCTools\")\n",
    "\n",
    "Example can be found here: \n",
    "https://github.com/Nanostring-Biostats/COVID-convalescent-nCounter-analysis"
   ]
  },
  {
   "cell_type": "code",
   "execution_count": 3,
   "id": "8c3df39b",
   "metadata": {},
   "outputs": [
    {
     "name": "stderr",
     "output_type": "stream",
     "text": [
      "'getOption(\"repos\")' replaces Bioconductor standard repositories, see\n",
      "'help(\"repositories\", package = \"BiocManager\")' for details.\n",
      "Replacement repositories:\n",
      "    CRAN: https://cran.r-project.org\n",
      "\n",
      "Bioconductor version 3.17 (BiocManager 1.30.21.1), R 4.3.1 (2023-06-16)\n",
      "\n",
      "Warning message:\n",
      "“package(s) not installed when version(s) same as or greater than current; use\n",
      "  `force = TRUE` to re-install: 'NanoStringNCTools'”\n"
     ]
    }
   ],
   "source": [
    "BiocManager::install(\"NanoStringNCTools\")"
   ]
  },
  {
   "cell_type": "code",
   "execution_count": 6,
   "id": "2b615985",
   "metadata": {},
   "outputs": [
    {
     "name": "stderr",
     "output_type": "stream",
     "text": [
      "'getOption(\"repos\")' replaces Bioconductor standard repositories, see\n",
      "'help(\"repositories\", package = \"BiocManager\")' for details.\n",
      "Replacement repositories:\n",
      "    CRAN: https://cran.r-project.org\n",
      "\n",
      "Bioconductor version 3.17 (BiocManager 1.30.21.1), R 4.3.1 (2023-06-16)\n",
      "\n",
      "Installing package(s) 'edgeR'\n",
      "\n",
      "also installing the dependencies ‘limma’, ‘locfit’\n",
      "\n",
      "\n",
      "Warning message in install.packages(...):\n",
      "“installation of package ‘locfit’ had non-zero exit status”\n",
      "Warning message in install.packages(...):\n",
      "“installation of package ‘edgeR’ had non-zero exit status”\n",
      "Updating HTML index of packages in '.Library'\n",
      "\n",
      "Making 'packages.html' ...\n",
      " done\n",
      "\n"
     ]
    }
   ],
   "source": [
    "BiocManager::install (\"edgeR\")"
   ]
  },
  {
   "cell_type": "code",
   "execution_count": 7,
   "id": "c3d82add",
   "metadata": {},
   "outputs": [
    {
     "name": "stderr",
     "output_type": "stream",
     "text": [
      "'getOption(\"repos\")' replaces Bioconductor standard repositories, see\n",
      "'help(\"repositories\", package = \"BiocManager\")' for details.\n",
      "Replacement repositories:\n",
      "    CRAN: https://cran.r-project.org\n",
      "\n",
      "Bioconductor version 3.17 (BiocManager 1.30.21.1), R 4.3.1 (2023-06-16)\n",
      "\n",
      "Installing package(s) 'DESeq2'\n",
      "\n",
      "also installing the dependencies ‘formatR’, ‘lambda.r’, ‘futile.options’, ‘MatrixGenerics’, ‘S4Arrays’, ‘DelayedArray’, ‘futile.logger’, ‘snow’, ‘codetools’, ‘BH’, ‘GenomicRanges’, ‘SummarizedExperiment’, ‘BiocParallel’, ‘matrixStats’, ‘locfit’, ‘RcppArmadillo’\n",
      "\n",
      "\n",
      "Warning message in install.packages(...):\n",
      "“installation of package ‘locfit’ had non-zero exit status”\n",
      "Warning message in install.packages(...):\n",
      "“installation of package ‘RcppArmadillo’ had non-zero exit status”\n",
      "Warning message in install.packages(...):\n",
      "“installation of package ‘DESeq2’ had non-zero exit status”\n",
      "Updating HTML index of packages in '.Library'\n",
      "\n",
      "Making 'packages.html' ...\n",
      " done\n",
      "\n"
     ]
    }
   ],
   "source": [
    "BiocManager::install(\"DESeq2\")"
   ]
  },
  {
   "cell_type": "markdown",
   "id": "8e361b65",
   "metadata": {},
   "source": [
    "#### because the above step failed I downloaded DESeq2.tar.bz2 from conda to install locally which leads to missing of dependencies \n",
    "\n",
    "conda install Packages/bioconductor-deseq2-1.40.2-r43hc0ef7c4_0.tar.bz2"
   ]
  },
  {
   "cell_type": "code",
   "execution_count": 9,
   "id": "7eb32e12",
   "metadata": {},
   "outputs": [
    {
     "name": "stderr",
     "output_type": "stream",
     "text": [
      "Warning message in install.packages(\"locfit\"):\n",
      "“installation of package ‘locfit’ had non-zero exit status”\n",
      "Updating HTML index of packages in '.Library'\n",
      "\n",
      "Making 'packages.html' ...\n",
      " done\n",
      "\n"
     ]
    }
   ],
   "source": [
    "install.packages(\"locfit\")"
   ]
  },
  {
   "cell_type": "markdown",
   "id": "42e7571d",
   "metadata": {},
   "source": [
    "# Don't recommend to use Mac M1 to install R packages either through conda or Biomanager "
   ]
  },
  {
   "cell_type": "markdown",
   "id": "c4fd3e45",
   "metadata": {},
   "source": [
    "### Some additional packages that needs "
   ]
  },
  {
   "cell_type": "code",
   "execution_count": 1,
   "id": "50a64c44",
   "metadata": {},
   "outputs": [
    {
     "name": "stderr",
     "output_type": "stream",
     "text": [
      "'getOption(\"repos\")' replaces Bioconductor standard repositories, see\n",
      "'help(\"repositories\", package = \"BiocManager\")' for details.\n",
      "Replacement repositories:\n",
      "    CRAN: https://cran.r-project.org\n",
      "\n",
      "Bioconductor version 3.16 (BiocManager 1.30.21.1), R 4.2.0 (2022-04-22)\n",
      "\n",
      "Installing package(s) 'NormqPCR'\n",
      "\n",
      "also installing the dependencies ‘DEoptimR’, ‘minpack.lm’, ‘rgl’, ‘robustbase’, ‘ReadqPCR’, ‘qpcR’\n",
      "\n",
      "\n",
      "Updating HTML index of packages in '.Library'\n",
      "\n",
      "Making 'packages.html' ...\n",
      " done\n",
      "\n",
      "Old packages: 'cpp11', 'crayon', 'digest', 'evaluate', 'fansi', 'fs',\n",
      "  'IRkernel', 'jsonlite', 'pbdZMQ', 'repr', 'utf8'\n",
      "\n"
     ]
    }
   ],
   "source": [
    "BiocManager::install(\"NormqPCR\")"
   ]
  },
  {
   "cell_type": "code",
   "execution_count": 1,
   "id": "784694ce",
   "metadata": {},
   "outputs": [
    {
     "name": "stderr",
     "output_type": "stream",
     "text": [
      "also installing the dependencies ‘rematch’, ‘hms’, ‘prettyunits’, ‘cellranger’, ‘progress’\n",
      "\n",
      "\n",
      "Updating HTML index of packages in '.Library'\n",
      "\n",
      "Making 'packages.html' ...\n",
      " done\n",
      "\n"
     ]
    }
   ],
   "source": [
    "install.packages(\"readxl\")"
   ]
  },
  {
   "cell_type": "code",
   "execution_count": 2,
   "id": "9700400d",
   "metadata": {},
   "outputs": [
    {
     "name": "stderr",
     "output_type": "stream",
     "text": [
      "Updating HTML index of packages in '.Library'\n",
      "\n",
      "Making 'packages.html' ...\n",
      " done\n",
      "\n"
     ]
    }
   ],
   "source": [
    "install.packages(\"plyr\")"
   ]
  },
  {
   "cell_type": "markdown",
   "id": "795b2afa",
   "metadata": {},
   "source": [
    "### The below packages are required for DE pipeline "
   ]
  },
  {
   "cell_type": "code",
   "execution_count": 1,
   "id": "a9c08f6c",
   "metadata": {},
   "outputs": [
    {
     "name": "stderr",
     "output_type": "stream",
     "text": [
      "also installing the dependency ‘zoo’\n",
      "\n",
      "\n",
      "Updating HTML index of packages in '.Library'\n",
      "\n",
      "Making 'packages.html' ...\n",
      " done\n",
      "\n"
     ]
    }
   ],
   "source": [
    "install.packages(\"lmtest\")"
   ]
  },
  {
   "cell_type": "code",
   "execution_count": 2,
   "id": "51444fa9",
   "metadata": {},
   "outputs": [
    {
     "name": "stderr",
     "output_type": "stream",
     "text": [
      "also installing the dependencies ‘rprojroot’, ‘diffobj’, ‘rematch2’, ‘brio’, ‘callr’, ‘desc’, ‘pkgload’, ‘praise’, ‘processx’, ‘ps’, ‘waldo’, ‘testthat’, ‘boot’, ‘minqa’, ‘nloptr’, ‘RcppEigen’\n",
      "\n",
      "\n",
      "Updating HTML index of packages in '.Library'\n",
      "\n",
      "Making 'packages.html' ...\n",
      " done\n",
      "\n"
     ]
    }
   ],
   "source": [
    "install.packages(\"lme4\")"
   ]
  },
  {
   "cell_type": "code",
   "execution_count": 3,
   "id": "c351c80a",
   "metadata": {},
   "outputs": [
    {
     "name": "stderr",
     "output_type": "stream",
     "text": [
      "also installing the dependency ‘numDeriv’\n",
      "\n",
      "\n",
      "Updating HTML index of packages in '.Library'\n",
      "\n",
      "Making 'packages.html' ...\n",
      " done\n",
      "\n"
     ]
    }
   ],
   "source": [
    "install.packages(\"lmerTest\")"
   ]
  },
  {
   "cell_type": "markdown",
   "id": "7861b97a",
   "metadata": {},
   "source": [
    "## Required packages for DE plots "
   ]
  },
  {
   "cell_type": "code",
   "execution_count": 4,
   "id": "e560daba",
   "metadata": {},
   "outputs": [
    {
     "name": "stderr",
     "output_type": "stream",
     "text": [
      "Warning message:\n",
      "“package ‘ComplexHeatmap’ is not available for this version of R\n",
      "\n",
      "A version of this package for your version of R might be available elsewhere,\n",
      "see the ideas at\n",
      "https://cran.r-project.org/doc/manuals/r-patched/R-admin.html#Installing-packages”\n"
     ]
    }
   ],
   "source": [
    "\n",
    "install.packages(\"ComplexHeatmap\")"
   ]
  },
  {
   "cell_type": "code",
   "execution_count": 5,
   "id": "0e1d89ee",
   "metadata": {},
   "outputs": [
    {
     "name": "stderr",
     "output_type": "stream",
     "text": [
      "'getOption(\"repos\")' replaces Bioconductor standard repositories, see\n",
      "'help(\"repositories\", package = \"BiocManager\")' for details.\n",
      "Replacement repositories:\n",
      "    CRAN: https://cran.r-project.org\n",
      "\n",
      "Bioconductor version 3.16 (BiocManager 1.30.21.1), R 4.2.0 (2022-04-22)\n",
      "\n",
      "Installing package(s) 'ComplexHeatmap'\n",
      "\n",
      "also installing the dependencies ‘shape’, ‘rjson’, ‘cluster’, ‘iterators’, ‘circlize’, ‘GetoptLong’, ‘clue’, ‘GlobalOptions’, ‘foreach’, ‘doParallel’\n",
      "\n",
      "\n",
      "Updating HTML index of packages in '.Library'\n",
      "\n",
      "Making 'packages.html' ...\n",
      " done\n",
      "\n",
      "Old packages: 'cpp11', 'crayon', 'digest', 'evaluate', 'fansi', 'fs',\n",
      "  'IRkernel', 'jsonlite', 'pbdZMQ', 'repr', 'utf8'\n",
      "\n"
     ]
    }
   ],
   "source": [
    "BiocManager::install(\"ComplexHeatmap\")"
   ]
  },
  {
   "cell_type": "code",
   "execution_count": 1,
   "id": "32c4748f",
   "metadata": {},
   "outputs": [
    {
     "name": "stderr",
     "output_type": "stream",
     "text": [
      "Updating HTML index of packages in '.Library'\n",
      "\n",
      "Making 'packages.html' ...\n",
      " done\n",
      "\n"
     ]
    }
   ],
   "source": [
    "install.packages('circlize')"
   ]
  },
  {
   "cell_type": "code",
   "execution_count": 2,
   "id": "e9e08199",
   "metadata": {},
   "outputs": [
    {
     "name": "stderr",
     "output_type": "stream",
     "text": [
      "also installing the dependency ‘gridExtra’\n",
      "\n",
      "\n",
      "Updating HTML index of packages in '.Library'\n",
      "\n",
      "Making 'packages.html' ...\n",
      " done\n",
      "\n"
     ]
    }
   ],
   "source": [
    "install.packages('viridis')"
   ]
  },
  {
   "cell_type": "code",
   "execution_count": 3,
   "id": "27e4f872",
   "metadata": {},
   "outputs": [
    {
     "name": "stderr",
     "output_type": "stream",
     "text": [
      "also installing the dependencies ‘SparseM’, ‘MatrixModels’, ‘survival’, ‘cubature’, ‘quadprog’, ‘quantreg’\n",
      "\n",
      "\n",
      "Updating HTML index of packages in '.Library'\n",
      "\n",
      "Making 'packages.html' ...\n",
      " done\n",
      "\n"
     ]
    }
   ],
   "source": [
    "install.packages('np')"
   ]
  },
  {
   "cell_type": "code",
   "execution_count": 4,
   "id": "625b1dc0",
   "metadata": {},
   "outputs": [
    {
     "name": "stderr",
     "output_type": "stream",
     "text": [
      "'getOption(\"repos\")' replaces Bioconductor standard repositories, see\n",
      "'help(\"repositories\", package = \"BiocManager\")' for details.\n",
      "Replacement repositories:\n",
      "    CRAN: https://cran.r-project.org\n",
      "\n",
      "Bioconductor version 3.16 (BiocManager 1.30.21.1), R 4.2.0 (2022-04-22)\n",
      "\n",
      "Installing package(s) 'umap'\n",
      "\n",
      "also installing the dependencies ‘RcppTOML’, ‘here’, ‘reticulate’, ‘RSpectra’\n",
      "\n",
      "\n",
      "Updating HTML index of packages in '.Library'\n",
      "\n",
      "Making 'packages.html' ...\n",
      " done\n",
      "\n",
      "Old packages: 'cpp11', 'crayon', 'digest', 'evaluate', 'fansi', 'fs',\n",
      "  'IRkernel', 'jsonlite', 'pbdZMQ', 'repr', 'utf8'\n",
      "\n"
     ]
    }
   ],
   "source": [
    "BiocManager::install(\"umap\")"
   ]
  },
  {
   "cell_type": "code",
   "execution_count": 5,
   "id": "b6cd1b89",
   "metadata": {},
   "outputs": [
    {
     "name": "stderr",
     "output_type": "stream",
     "text": [
      "'getOption(\"repos\")' replaces Bioconductor standard repositories, see\n",
      "'help(\"repositories\", package = \"BiocManager\")' for details.\n",
      "Replacement repositories:\n",
      "    CRAN: https://cran.r-project.org\n",
      "\n",
      "Bioconductor version 3.16 (BiocManager 1.30.21.1), R 4.2.0 (2022-04-22)\n",
      "\n",
      "Installing package(s) 'mclust'\n",
      "\n",
      "Updating HTML index of packages in '.Library'\n",
      "\n",
      "Making 'packages.html' ...\n",
      " done\n",
      "\n",
      "Old packages: 'cpp11', 'crayon', 'digest', 'evaluate', 'fansi', 'fs',\n",
      "  'IRkernel', 'jsonlite', 'pbdZMQ', 'repr', 'utf8'\n",
      "\n"
     ]
    }
   ],
   "source": [
    "# mclust\n",
    "BiocManager::install(\"mclust\")"
   ]
  },
  {
   "cell_type": "code",
   "execution_count": 6,
   "id": "9716f8fc",
   "metadata": {},
   "outputs": [
    {
     "name": "stderr",
     "output_type": "stream",
     "text": [
      "'getOption(\"repos\")' replaces Bioconductor standard repositories, see\n",
      "'help(\"repositories\", package = \"BiocManager\")' for details.\n",
      "Replacement repositories:\n",
      "    CRAN: https://cran.r-project.org\n",
      "\n",
      "Bioconductor version 3.16 (BiocManager 1.30.21.1), R 4.2.0 (2022-04-22)\n",
      "\n",
      "Installing package(s) 'vioplot'\n",
      "\n",
      "also installing the dependency ‘sm’\n",
      "\n",
      "\n",
      "Updating HTML index of packages in '.Library'\n",
      "\n",
      "Making 'packages.html' ...\n",
      " done\n",
      "\n",
      "Old packages: 'cpp11', 'crayon', 'digest', 'evaluate', 'fansi', 'fs',\n",
      "  'IRkernel', 'jsonlite', 'pbdZMQ', 'repr', 'utf8'\n",
      "\n"
     ]
    }
   ],
   "source": [
    "# library(vioplot)\n",
    "BiocManager::install(\"vioplot\")"
   ]
  },
  {
   "cell_type": "code",
   "execution_count": 1,
   "id": "04ffdc7b",
   "metadata": {},
   "outputs": [
    {
     "name": "stderr",
     "output_type": "stream",
     "text": [
      "'getOption(\"repos\")' replaces Bioconductor standard repositories, see\n",
      "'help(\"repositories\", package = \"BiocManager\")' for details.\n",
      "Replacement repositories:\n",
      "    CRAN: https://cran.r-project.org\n",
      "\n",
      "Bioconductor version 3.16 (BiocManager 1.30.21.1), R 4.2.0 (2022-04-22)\n",
      "\n",
      "Installing package(s) 'dplyr'\n",
      "\n",
      "also installing the dependencies ‘generics’, ‘tidyselect’\n",
      "\n",
      "\n",
      "Updating HTML index of packages in '.Library'\n",
      "\n",
      "Making 'packages.html' ...\n",
      " done\n",
      "\n",
      "Old packages: 'cpp11', 'crayon', 'digest', 'evaluate', 'fansi', 'fs',\n",
      "  'IRkernel', 'jsonlite', 'pbdZMQ', 'repr', 'utf8'\n",
      "\n"
     ]
    }
   ],
   "source": [
    "BiocManager::install(\"dplyr\")"
   ]
  },
  {
   "cell_type": "code",
   "execution_count": null,
   "id": "befb98a3",
   "metadata": {},
   "outputs": [],
   "source": []
  }
 ],
 "metadata": {
  "kernelspec": {
   "display_name": "R",
   "language": "R",
   "name": "ir"
  },
  "language_info": {
   "codemirror_mode": "r",
   "file_extension": ".r",
   "mimetype": "text/x-r-source",
   "name": "R",
   "pygments_lexer": "r",
   "version": "4.2.0"
  }
 },
 "nbformat": 4,
 "nbformat_minor": 5
}
