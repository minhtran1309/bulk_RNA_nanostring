{
 "cells": [
  {
   "cell_type": "markdown",
   "id": "155acf08",
   "metadata": {},
   "source": [
    "## it's always a headach to intall R packages. \n",
    "\n",
    "This is the notebook to install required packages for the analysis"
   ]
  },
  {
   "cell_type": "code",
   "execution_count": 1,
   "id": "9f2c0707",
   "metadata": {},
   "outputs": [
    {
     "name": "stderr",
     "output_type": "stream",
     "text": [
      "Updating HTML index of packages in '.Library'\n",
      "\n",
      "Making 'packages.html' ...\n",
      " done\n",
      "\n"
     ]
    }
   ],
   "source": [
    "if (!requireNamespace(\"BiocManager\", quietly=TRUE))\n",
    "    install.packages(\"BiocManager\")"
   ]
  },
  {
   "cell_type": "markdown",
   "id": "119674ad",
   "metadata": {},
   "source": [
    "### install NanostringNCTools\n",
    "\n",
    "#### used to analyse Ncounter data\n",
    "\n",
    "https://bioconductor.org/packages/release/bioc/vignettes/NanoStringNCTools/inst/doc/Introduction.html\n",
    "\n",
    "BiocManager::install(\"NanoStringNCTools\")\n",
    "\n",
    "Example can be found here: \n",
    "https://github.com/Nanostring-Biostats/COVID-convalescent-nCounter-analysis"
   ]
  },
  {
   "cell_type": "code",
   "execution_count": 3,
   "id": "8c3df39b",
   "metadata": {},
   "outputs": [
    {
     "name": "stderr",
     "output_type": "stream",
     "text": [
      "'getOption(\"repos\")' replaces Bioconductor standard repositories, see\n",
      "'help(\"repositories\", package = \"BiocManager\")' for details.\n",
      "Replacement repositories:\n",
      "    CRAN: https://cran.r-project.org\n",
      "\n",
      "Bioconductor version 3.17 (BiocManager 1.30.21.1), R 4.3.1 (2023-06-16)\n",
      "\n",
      "Warning message:\n",
      "“package(s) not installed when version(s) same as or greater than current; use\n",
      "  `force = TRUE` to re-install: 'NanoStringNCTools'”\n"
     ]
    }
   ],
   "source": [
    "BiocManager::install(\"NanoStringNCTools\")"
   ]
  },
  {
   "cell_type": "code",
   "execution_count": 6,
   "id": "2b615985",
   "metadata": {},
   "outputs": [
    {
     "name": "stderr",
     "output_type": "stream",
     "text": [
      "'getOption(\"repos\")' replaces Bioconductor standard repositories, see\n",
      "'help(\"repositories\", package = \"BiocManager\")' for details.\n",
      "Replacement repositories:\n",
      "    CRAN: https://cran.r-project.org\n",
      "\n",
      "Bioconductor version 3.17 (BiocManager 1.30.21.1), R 4.3.1 (2023-06-16)\n",
      "\n",
      "Installing package(s) 'edgeR'\n",
      "\n",
      "also installing the dependencies ‘limma’, ‘locfit’\n",
      "\n",
      "\n",
      "Warning message in install.packages(...):\n",
      "“installation of package ‘locfit’ had non-zero exit status”\n",
      "Warning message in install.packages(...):\n",
      "“installation of package ‘edgeR’ had non-zero exit status”\n",
      "Updating HTML index of packages in '.Library'\n",
      "\n",
      "Making 'packages.html' ...\n",
      " done\n",
      "\n"
     ]
    }
   ],
   "source": [
    "BiocManager::install (\"edgeR\")"
   ]
  },
  {
   "cell_type": "code",
   "execution_count": 7,
   "id": "c3d82add",
   "metadata": {},
   "outputs": [
    {
     "name": "stderr",
     "output_type": "stream",
     "text": [
      "'getOption(\"repos\")' replaces Bioconductor standard repositories, see\n",
      "'help(\"repositories\", package = \"BiocManager\")' for details.\n",
      "Replacement repositories:\n",
      "    CRAN: https://cran.r-project.org\n",
      "\n",
      "Bioconductor version 3.17 (BiocManager 1.30.21.1), R 4.3.1 (2023-06-16)\n",
      "\n",
      "Installing package(s) 'DESeq2'\n",
      "\n",
      "also installing the dependencies ‘formatR’, ‘lambda.r’, ‘futile.options’, ‘MatrixGenerics’, ‘S4Arrays’, ‘DelayedArray’, ‘futile.logger’, ‘snow’, ‘codetools’, ‘BH’, ‘GenomicRanges’, ‘SummarizedExperiment’, ‘BiocParallel’, ‘matrixStats’, ‘locfit’, ‘RcppArmadillo’\n",
      "\n",
      "\n",
      "Warning message in install.packages(...):\n",
      "“installation of package ‘locfit’ had non-zero exit status”\n",
      "Warning message in install.packages(...):\n",
      "“installation of package ‘RcppArmadillo’ had non-zero exit status”\n",
      "Warning message in install.packages(...):\n",
      "“installation of package ‘DESeq2’ had non-zero exit status”\n",
      "Updating HTML index of packages in '.Library'\n",
      "\n",
      "Making 'packages.html' ...\n",
      " done\n",
      "\n"
     ]
    }
   ],
   "source": [
    "BiocManager::install(\"DESeq2\")"
   ]
  },
  {
   "cell_type": "markdown",
   "id": "8e361b65",
   "metadata": {},
   "source": [
    "#### because the above step failed I downloaded DESeq2.tar.bz2 from conda to install locally which leads to missing of dependencies \n",
    "\n",
    "conda install Packages/bioconductor-deseq2-1.40.2-r43hc0ef7c4_0.tar.bz2"
   ]
  },
  {
   "cell_type": "code",
   "execution_count": 9,
   "id": "7eb32e12",
   "metadata": {},
   "outputs": [
    {
     "name": "stderr",
     "output_type": "stream",
     "text": [
      "Warning message in install.packages(\"locfit\"):\n",
      "“installation of package ‘locfit’ had non-zero exit status”\n",
      "Updating HTML index of packages in '.Library'\n",
      "\n",
      "Making 'packages.html' ...\n",
      " done\n",
      "\n"
     ]
    }
   ],
   "source": [
    "install.packages(\"locfit\")"
   ]
  },
  {
   "cell_type": "markdown",
   "id": "42e7571d",
   "metadata": {},
   "source": [
    "# Don't recommend to use Mac M1 to install R packages either through conda or Biomanager "
   ]
  },
  {
   "cell_type": "code",
   "execution_count": null,
   "id": "50a64c44",
   "metadata": {},
   "outputs": [],
   "source": []
  }
 ],
 "metadata": {
  "kernelspec": {
   "display_name": "R",
   "language": "R",
   "name": "ir"
  },
  "language_info": {
   "codemirror_mode": "r",
   "file_extension": ".r",
   "mimetype": "text/x-r-source",
   "name": "R",
   "pygments_lexer": "r",
   "version": "4.3.1"
  }
 },
 "nbformat": 4,
 "nbformat_minor": 5
}
