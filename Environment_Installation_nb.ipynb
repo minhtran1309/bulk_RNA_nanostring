{
 "cells": [
  {
   "cell_type": "markdown",
   "id": "155acf08",
   "metadata": {},
   "source": [
    "## it's always a headach to intall R packages. \n",
    "\n",
    "This is the notebook to install required packages for the analysis"
   ]
  },
  {
   "cell_type": "code",
   "execution_count": 1,
   "id": "9f2c0707",
   "metadata": {},
   "outputs": [
    {
     "name": "stderr",
     "output_type": "stream",
     "text": [
      "Updating HTML index of packages in '.Library'\n",
      "\n",
      "Making 'packages.html' ...\n",
      " done\n",
      "\n"
     ]
    }
   ],
   "source": [
    "if (!requireNamespace(\"BiocManager\", quietly=TRUE))\n",
    "    install.packages(\"BiocManager\")"
   ]
  },
  {
   "cell_type": "markdown",
   "id": "119674ad",
   "metadata": {},
   "source": [
    "### install NanostringNCTools\n",
    "\n",
    "#### used to analyse Ncounter data\n",
    "\n",
    "https://bioconductor.org/packages/release/bioc/vignettes/NanoStringNCTools/inst/doc/Introduction.html\n",
    "\n",
    "BiocManager::install(\"NanoStringNCTools\")\n",
    "\n",
    "Example can be found here: \n",
    "https://github.com/Nanostring-Biostats/COVID-convalescent-nCounter-analysis"
   ]
  },
  {
   "cell_type": "code",
   "execution_count": 3,
   "id": "8c3df39b",
   "metadata": {},
   "outputs": [
    {
     "name": "stderr",
     "output_type": "stream",
     "text": [
      "'getOption(\"repos\")' replaces Bioconductor standard repositories, see\n",
      "'help(\"repositories\", package = \"BiocManager\")' for details.\n",
      "Replacement repositories:\n",
      "    CRAN: https://cran.r-project.org\n",
      "\n",
      "Bioconductor version 3.17 (BiocManager 1.30.21.1), R 4.3.1 (2023-06-16)\n",
      "\n",
      "Warning message:\n",
      "“package(s) not installed when version(s) same as or greater than current; use\n",
      "  `force = TRUE` to re-install: 'NanoStringNCTools'”\n"
     ]
    }
   ],
   "source": [
    "BiocManager::install(\"NanoStringNCTools\")"
   ]
  },
  {
   "cell_type": "code",
   "execution_count": 3,
   "id": "2b615985",
   "metadata": {},
   "outputs": [
    {
     "name": "stderr",
     "output_type": "stream",
     "text": [
      "'getOption(\"repos\")' replaces Bioconductor standard repositories, see\n",
      "'help(\"repositories\", package = \"BiocManager\")' for details.\n",
      "Replacement repositories:\n",
      "    CRAN: https://cran.r-project.org\n",
      "\n",
      "Bioconductor version 3.18 (BiocManager 1.30.22), R 4.3.1 (2023-06-16)\n",
      "\n",
      "Installing package(s) 'edgeR'\n",
      "\n",
      "also installing the dependencies ‘statmod’, ‘limma’\n",
      "\n",
      "\n",
      "Updating HTML index of packages in '.Library'\n",
      "\n",
      "Making 'packages.html' ...\n",
      " done\n",
      "\n",
      "Old packages: 'evaluate', 'htmltools', 'rlang'\n",
      "\n"
     ]
    }
   ],
   "source": [
    "BiocManager::install (\"edgeR\")"
   ]
  },
  {
   "cell_type": "code",
   "execution_count": 2,
   "id": "c3d82add",
   "metadata": {},
   "outputs": [
    {
     "name": "stderr",
     "output_type": "stream",
     "text": [
      "'getOption(\"repos\")' replaces Bioconductor standard repositories, see\n",
      "'help(\"repositories\", package = \"BiocManager\")' for details.\n",
      "Replacement repositories:\n",
      "    CRAN: https://cran.r-project.org\n",
      "\n",
      "Bioconductor version 3.18 (BiocManager 1.30.22), R 4.3.1 (2023-06-16)\n",
      "\n",
      "Installing package(s) 'BiocVersion', 'DESeq2'\n",
      "\n",
      "also installing the dependencies ‘bitops’, ‘formatR’, ‘colorspace’, ‘RCurl’, ‘GenomeInfoDbData’, ‘zlibbioc’, ‘abind’, ‘SparseArray’, ‘lambda.r’, ‘futile.options’, ‘nlme’, ‘farver’, ‘labeling’, ‘munsell’, ‘R6’, ‘RColorBrewer’, ‘viridisLite’, ‘magrittr’, ‘pkgconfig’, ‘GenomeInfoDb’, ‘XVector’, ‘Matrix’, ‘S4Arrays’, ‘DelayedArray’, ‘futile.logger’, ‘snow’, ‘codetools’, ‘BH’, ‘cpp11’, ‘lattice’, ‘gtable’, ‘isoband’, ‘MASS’, ‘mgcv’, ‘scales’, ‘tibble’, ‘withr’, ‘S4Vectors’, ‘IRanges’, ‘GenomicRanges’, ‘SummarizedExperiment’, ‘BiocGenerics’, ‘Biobase’, ‘BiocParallel’, ‘matrixStats’, ‘locfit’, ‘ggplot2’, ‘Rcpp’, ‘MatrixGenerics’, ‘RcppArmadillo’\n",
      "\n",
      "\n",
      "Updating HTML index of packages in '.Library'\n",
      "\n",
      "Making 'packages.html' ...\n",
      " done\n",
      "\n",
      "Old packages: 'evaluate', 'htmltools', 'rlang'\n",
      "\n"
     ]
    }
   ],
   "source": [
    "BiocManager::install(\"DESeq2\")"
   ]
  },
  {
   "cell_type": "markdown",
   "id": "8e361b65",
   "metadata": {},
   "source": [
    "#### because the above step failed I downloaded DESeq2.tar.bz2 from conda to install locally which leads to missing of dependencies \n",
    "\n",
    "conda install Packages/bioconductor-deseq2-1.40.2-r43hc0ef7c4_0.tar.bz2"
   ]
  },
  {
   "cell_type": "code",
   "execution_count": 9,
   "id": "7eb32e12",
   "metadata": {},
   "outputs": [
    {
     "name": "stderr",
     "output_type": "stream",
     "text": [
      "Warning message in install.packages(\"locfit\"):\n",
      "“installation of package ‘locfit’ had non-zero exit status”\n",
      "Updating HTML index of packages in '.Library'\n",
      "\n",
      "Making 'packages.html' ...\n",
      " done\n",
      "\n"
     ]
    }
   ],
   "source": [
    "install.packages(\"locfit\")"
   ]
  },
  {
   "cell_type": "markdown",
   "id": "42e7571d",
   "metadata": {},
   "source": [
    "# Don't recommend to use Mac M1 to install R packages either through conda or Biomanager "
   ]
  },
  {
   "cell_type": "markdown",
   "id": "c4fd3e45",
   "metadata": {},
   "source": [
    "### Some additional packages that needs "
   ]
  },
  {
   "cell_type": "code",
   "execution_count": 4,
   "id": "50a64c44",
   "metadata": {},
   "outputs": [
    {
     "name": "stderr",
     "output_type": "stream",
     "text": [
      "'getOption(\"repos\")' replaces Bioconductor standard repositories, see\n",
      "'help(\"repositories\", package = \"BiocManager\")' for details.\n",
      "Replacement repositories:\n",
      "    CRAN: https://cran.r-project.org\n",
      "\n",
      "Bioconductor version 3.18 (BiocManager 1.30.22), R 4.3.1 (2023-06-16)\n",
      "\n",
      "Installing package(s) 'NormqPCR'\n",
      "\n",
      "also installing the dependencies ‘fs’, ‘rappdirs’, ‘cachem’, ‘memoise’, ‘sass’, ‘stringi’, ‘bslib’, ‘fontawesome’, ‘jquerylib’, ‘stringr’, ‘tinytex’, ‘yaml’, ‘rmarkdown’, ‘highr’, ‘xfun’, ‘htmlwidgets’, ‘knitr’, ‘mime’, ‘DEoptimR’, ‘minpack.lm’, ‘rgl’, ‘robustbase’, ‘ReadqPCR’, ‘qpcR’\n",
      "\n",
      "\n",
      "Updating HTML index of packages in '.Library'\n",
      "\n",
      "Making 'packages.html' ...\n",
      " done\n",
      "\n",
      "Old packages: 'evaluate', 'htmltools', 'rlang'\n",
      "\n"
     ]
    }
   ],
   "source": [
    "BiocManager::install(\"NormqPCR\")"
   ]
  },
  {
   "cell_type": "code",
   "execution_count": 2,
   "id": "ec91992a-ba3e-4aca-8980-18d197f2db87",
   "metadata": {},
   "outputs": [
    {
     "name": "stderr",
     "output_type": "stream",
     "text": [
      "'getOption(\"repos\")' replaces Bioconductor standard repositories, see\n",
      "'help(\"repositories\", package = \"BiocManager\")' for details.\n",
      "Replacement repositories:\n",
      "    CRAN: https://cran.r-project.org\n",
      "\n",
      "Bioconductor version 3.16 (BiocManager 1.30.21.1), R 4.2.0 (2022-04-22)\n",
      "\n",
      "Installing package(s) 'RColorBrewer'\n",
      "\n",
      "Updating HTML index of packages in '.Library'\n",
      "\n",
      "Making 'packages.html' ...\n",
      " done\n",
      "\n",
      "Old packages: 'BiocManager', 'clue', 'cpp11', 'crayon', 'dbplyr', 'DEoptimR',\n",
      "  'digest', 'dqrng', 'evaluate', 'fansi', 'ggrepel', 'htmltools', 'IRkernel',\n",
      "  'jsonlite', 'lme4', 'minpack.lm', 'minqa', 'pbdZMQ', 'pkgload', 'plotrix',\n",
      "  'plyr', 'prettyunits', 'quantreg', 'RcppArmadillo', 'RcppEigen', 'RCurl',\n",
      "  'rematch', 'repr', 'reticulate', 'rlang', 'rprojroot', 'RSQLite', 'survival',\n",
      "  'systemfonts', 'testthat', 'utf8', 'uuid', 'vctrs', 'waldo', 'XML'\n",
      "\n"
     ]
    }
   ],
   "source": [
    "BiocManager::install(\"RColorBrewer\")"
   ]
  },
  {
   "cell_type": "code",
   "execution_count": 3,
   "id": "852570f9-fd5b-4472-986f-aa60a0ea19f9",
   "metadata": {},
   "outputs": [
    {
     "name": "stderr",
     "output_type": "stream",
     "text": [
      "'getOption(\"repos\")' replaces Bioconductor standard repositories, see\n",
      "'help(\"repositories\", package = \"BiocManager\")' for details.\n",
      "Replacement repositories:\n",
      "    CRAN: https://cran.r-project.org\n",
      "\n",
      "Bioconductor version 3.16 (BiocManager 1.30.21.1), R 4.2.0 (2022-04-22)\n",
      "\n",
      "Installing package(s) 'MASS'\n",
      "\n",
      "Warning message in install.packages(...):\n",
      "“installation of package ‘MASS’ had non-zero exit status”\n",
      "Updating HTML index of packages in '.Library'\n",
      "\n",
      "Making 'packages.html' ...\n",
      " done\n",
      "\n",
      "Old packages: 'BiocManager', 'clue', 'cpp11', 'crayon', 'dbplyr', 'DEoptimR',\n",
      "  'digest', 'dqrng', 'evaluate', 'fansi', 'ggrepel', 'htmltools', 'IRkernel',\n",
      "  'jsonlite', 'lme4', 'minpack.lm', 'minqa', 'pbdZMQ', 'pkgload', 'plotrix',\n",
      "  'plyr', 'prettyunits', 'quantreg', 'RcppArmadillo', 'RcppEigen', 'RCurl',\n",
      "  'rematch', 'repr', 'reticulate', 'rlang', 'rprojroot', 'RSQLite', 'survival',\n",
      "  'systemfonts', 'testthat', 'utf8', 'uuid', 'vctrs', 'waldo', 'XML'\n",
      "\n"
     ]
    }
   ],
   "source": [
    "BiocManager::install(\"MASS\")"
   ]
  },
  {
   "cell_type": "code",
   "execution_count": 4,
   "id": "cbc76a18-d45c-47b4-838d-f088e745955d",
   "metadata": {},
   "outputs": [
    {
     "name": "stderr",
     "output_type": "stream",
     "text": [
      "Warning message in install.packages(\"MASS\"):\n",
      "“installation of package ‘MASS’ had non-zero exit status”\n",
      "Updating HTML index of packages in '.Library'\n",
      "\n",
      "Making 'packages.html' ...\n",
      " done\n",
      "\n"
     ]
    }
   ],
   "source": [
    "install.packages(\"MASS\")"
   ]
  },
  {
   "cell_type": "code",
   "execution_count": 6,
   "id": "784694ce",
   "metadata": {},
   "outputs": [
    {
     "name": "stderr",
     "output_type": "stream",
     "text": [
      "also installing the dependencies ‘rematch’, ‘hms’, ‘prettyunits’, ‘cellranger’, ‘progress’\n",
      "\n",
      "\n",
      "Updating HTML index of packages in '.Library'\n",
      "\n",
      "Making 'packages.html' ...\n",
      " done\n",
      "\n"
     ]
    }
   ],
   "source": [
    "install.packages(\"readxl\")"
   ]
  },
  {
   "cell_type": "code",
   "execution_count": 2,
   "id": "9700400d",
   "metadata": {},
   "outputs": [
    {
     "name": "stderr",
     "output_type": "stream",
     "text": [
      "Updating HTML index of packages in '.Library'\n",
      "\n",
      "Making 'packages.html' ...\n",
      " done\n",
      "\n"
     ]
    }
   ],
   "source": [
    "install.packages(\"plyr\")"
   ]
  },
  {
   "cell_type": "markdown",
   "id": "795b2afa",
   "metadata": {},
   "source": [
    "### The below packages are required for DE pipeline "
   ]
  },
  {
   "cell_type": "code",
   "execution_count": 1,
   "id": "a9c08f6c",
   "metadata": {},
   "outputs": [
    {
     "name": "stderr",
     "output_type": "stream",
     "text": [
      "also installing the dependency ‘zoo’\n",
      "\n",
      "\n",
      "Updating HTML index of packages in '.Library'\n",
      "\n",
      "Making 'packages.html' ...\n",
      " done\n",
      "\n"
     ]
    }
   ],
   "source": [
    "install.packages(\"lmtest\")"
   ]
  },
  {
   "cell_type": "code",
   "execution_count": 2,
   "id": "51444fa9",
   "metadata": {},
   "outputs": [
    {
     "name": "stderr",
     "output_type": "stream",
     "text": [
      "also installing the dependencies ‘rprojroot’, ‘diffobj’, ‘rematch2’, ‘brio’, ‘callr’, ‘desc’, ‘pkgload’, ‘praise’, ‘processx’, ‘ps’, ‘waldo’, ‘testthat’, ‘boot’, ‘minqa’, ‘nloptr’, ‘RcppEigen’\n",
      "\n",
      "\n",
      "Updating HTML index of packages in '.Library'\n",
      "\n",
      "Making 'packages.html' ...\n",
      " done\n",
      "\n"
     ]
    }
   ],
   "source": [
    "install.packages(\"lme4\")"
   ]
  },
  {
   "cell_type": "code",
   "execution_count": 3,
   "id": "c351c80a",
   "metadata": {},
   "outputs": [
    {
     "name": "stderr",
     "output_type": "stream",
     "text": [
      "also installing the dependency ‘numDeriv’\n",
      "\n",
      "\n",
      "Updating HTML index of packages in '.Library'\n",
      "\n",
      "Making 'packages.html' ...\n",
      " done\n",
      "\n"
     ]
    }
   ],
   "source": [
    "install.packages(\"lmerTest\")"
   ]
  },
  {
   "cell_type": "markdown",
   "id": "7861b97a",
   "metadata": {},
   "source": [
    "## Required packages for DE plots "
   ]
  },
  {
   "cell_type": "code",
   "execution_count": 5,
   "id": "2a1f9d86-2cb6-4ab6-ac11-f15e39b32670",
   "metadata": {},
   "outputs": [
    {
     "name": "stderr",
     "output_type": "stream",
     "text": [
      "Updating HTML index of packages in '.Library'\n",
      "\n",
      "Making 'packages.html' ...\n",
      " done\n",
      "\n"
     ]
    }
   ],
   "source": [
    "install.packages(\"pheatmap\")"
   ]
  },
  {
   "cell_type": "code",
   "execution_count": 4,
   "id": "e560daba",
   "metadata": {},
   "outputs": [
    {
     "name": "stderr",
     "output_type": "stream",
     "text": [
      "Warning message:\n",
      "“package ‘ComplexHeatmap’ is not available for this version of R\n",
      "\n",
      "A version of this package for your version of R might be available elsewhere,\n",
      "see the ideas at\n",
      "https://cran.r-project.org/doc/manuals/r-patched/R-admin.html#Installing-packages”\n"
     ]
    }
   ],
   "source": [
    "\n",
    "install.packages(\"ComplexHeatmap\")"
   ]
  },
  {
   "cell_type": "code",
   "execution_count": 5,
   "id": "0e1d89ee",
   "metadata": {},
   "outputs": [
    {
     "name": "stderr",
     "output_type": "stream",
     "text": [
      "'getOption(\"repos\")' replaces Bioconductor standard repositories, see\n",
      "'help(\"repositories\", package = \"BiocManager\")' for details.\n",
      "Replacement repositories:\n",
      "    CRAN: https://cran.r-project.org\n",
      "\n",
      "Bioconductor version 3.16 (BiocManager 1.30.21.1), R 4.2.0 (2022-04-22)\n",
      "\n",
      "Installing package(s) 'ComplexHeatmap'\n",
      "\n",
      "also installing the dependencies ‘shape’, ‘rjson’, ‘cluster’, ‘iterators’, ‘circlize’, ‘GetoptLong’, ‘clue’, ‘GlobalOptions’, ‘foreach’, ‘doParallel’\n",
      "\n",
      "\n",
      "Updating HTML index of packages in '.Library'\n",
      "\n",
      "Making 'packages.html' ...\n",
      " done\n",
      "\n",
      "Old packages: 'cpp11', 'crayon', 'digest', 'evaluate', 'fansi', 'fs',\n",
      "  'IRkernel', 'jsonlite', 'pbdZMQ', 'repr', 'utf8'\n",
      "\n"
     ]
    }
   ],
   "source": [
    "BiocManager::install(\"ComplexHeatmap\")"
   ]
  },
  {
   "cell_type": "code",
   "execution_count": 1,
   "id": "32c4748f",
   "metadata": {},
   "outputs": [
    {
     "name": "stderr",
     "output_type": "stream",
     "text": [
      "Updating HTML index of packages in '.Library'\n",
      "\n",
      "Making 'packages.html' ...\n",
      " done\n",
      "\n"
     ]
    }
   ],
   "source": [
    "install.packages('circlize')"
   ]
  },
  {
   "cell_type": "code",
   "execution_count": 2,
   "id": "e9e08199",
   "metadata": {},
   "outputs": [
    {
     "name": "stderr",
     "output_type": "stream",
     "text": [
      "also installing the dependency ‘gridExtra’\n",
      "\n",
      "\n",
      "Updating HTML index of packages in '.Library'\n",
      "\n",
      "Making 'packages.html' ...\n",
      " done\n",
      "\n"
     ]
    }
   ],
   "source": [
    "install.packages('viridis')"
   ]
  },
  {
   "cell_type": "code",
   "execution_count": 3,
   "id": "27e4f872",
   "metadata": {},
   "outputs": [
    {
     "name": "stderr",
     "output_type": "stream",
     "text": [
      "also installing the dependencies ‘SparseM’, ‘MatrixModels’, ‘survival’, ‘cubature’, ‘quadprog’, ‘quantreg’\n",
      "\n",
      "\n",
      "Updating HTML index of packages in '.Library'\n",
      "\n",
      "Making 'packages.html' ...\n",
      " done\n",
      "\n"
     ]
    }
   ],
   "source": [
    "install.packages('np')"
   ]
  },
  {
   "cell_type": "code",
   "execution_count": 4,
   "id": "625b1dc0",
   "metadata": {},
   "outputs": [
    {
     "name": "stderr",
     "output_type": "stream",
     "text": [
      "'getOption(\"repos\")' replaces Bioconductor standard repositories, see\n",
      "'help(\"repositories\", package = \"BiocManager\")' for details.\n",
      "Replacement repositories:\n",
      "    CRAN: https://cran.r-project.org\n",
      "\n",
      "Bioconductor version 3.16 (BiocManager 1.30.21.1), R 4.2.0 (2022-04-22)\n",
      "\n",
      "Installing package(s) 'umap'\n",
      "\n",
      "also installing the dependencies ‘RcppTOML’, ‘here’, ‘reticulate’, ‘RSpectra’\n",
      "\n",
      "\n",
      "Updating HTML index of packages in '.Library'\n",
      "\n",
      "Making 'packages.html' ...\n",
      " done\n",
      "\n",
      "Old packages: 'cpp11', 'crayon', 'digest', 'evaluate', 'fansi', 'fs',\n",
      "  'IRkernel', 'jsonlite', 'pbdZMQ', 'repr', 'utf8'\n",
      "\n"
     ]
    }
   ],
   "source": [
    "BiocManager::install(\"umap\")"
   ]
  },
  {
   "cell_type": "code",
   "execution_count": 5,
   "id": "b6cd1b89",
   "metadata": {},
   "outputs": [
    {
     "name": "stderr",
     "output_type": "stream",
     "text": [
      "'getOption(\"repos\")' replaces Bioconductor standard repositories, see\n",
      "'help(\"repositories\", package = \"BiocManager\")' for details.\n",
      "Replacement repositories:\n",
      "    CRAN: https://cran.r-project.org\n",
      "\n",
      "Bioconductor version 3.16 (BiocManager 1.30.21.1), R 4.2.0 (2022-04-22)\n",
      "\n",
      "Installing package(s) 'mclust'\n",
      "\n",
      "Updating HTML index of packages in '.Library'\n",
      "\n",
      "Making 'packages.html' ...\n",
      " done\n",
      "\n",
      "Old packages: 'cpp11', 'crayon', 'digest', 'evaluate', 'fansi', 'fs',\n",
      "  'IRkernel', 'jsonlite', 'pbdZMQ', 'repr', 'utf8'\n",
      "\n"
     ]
    }
   ],
   "source": [
    "# mclust\n",
    "BiocManager::install(\"mclust\")"
   ]
  },
  {
   "cell_type": "code",
   "execution_count": 6,
   "id": "9716f8fc",
   "metadata": {},
   "outputs": [
    {
     "name": "stderr",
     "output_type": "stream",
     "text": [
      "'getOption(\"repos\")' replaces Bioconductor standard repositories, see\n",
      "'help(\"repositories\", package = \"BiocManager\")' for details.\n",
      "Replacement repositories:\n",
      "    CRAN: https://cran.r-project.org\n",
      "\n",
      "Bioconductor version 3.16 (BiocManager 1.30.21.1), R 4.2.0 (2022-04-22)\n",
      "\n",
      "Installing package(s) 'vioplot'\n",
      "\n",
      "also installing the dependency ‘sm’\n",
      "\n",
      "\n",
      "Updating HTML index of packages in '.Library'\n",
      "\n",
      "Making 'packages.html' ...\n",
      " done\n",
      "\n",
      "Old packages: 'cpp11', 'crayon', 'digest', 'evaluate', 'fansi', 'fs',\n",
      "  'IRkernel', 'jsonlite', 'pbdZMQ', 'repr', 'utf8'\n",
      "\n"
     ]
    }
   ],
   "source": [
    "# library(vioplot)\n",
    "BiocManager::install(\"vioplot\")"
   ]
  },
  {
   "cell_type": "code",
   "execution_count": 1,
   "id": "04ffdc7b",
   "metadata": {},
   "outputs": [
    {
     "name": "stderr",
     "output_type": "stream",
     "text": [
      "'getOption(\"repos\")' replaces Bioconductor standard repositories, see\n",
      "'help(\"repositories\", package = \"BiocManager\")' for details.\n",
      "Replacement repositories:\n",
      "    CRAN: https://cran.r-project.org\n",
      "\n",
      "Bioconductor version 3.16 (BiocManager 1.30.21.1), R 4.2.0 (2022-04-22)\n",
      "\n",
      "Installing package(s) 'dplyr'\n",
      "\n",
      "also installing the dependencies ‘generics’, ‘tidyselect’\n",
      "\n",
      "\n",
      "Updating HTML index of packages in '.Library'\n",
      "\n",
      "Making 'packages.html' ...\n",
      " done\n",
      "\n",
      "Old packages: 'cpp11', 'crayon', 'digest', 'evaluate', 'fansi', 'fs',\n",
      "  'IRkernel', 'jsonlite', 'pbdZMQ', 'repr', 'utf8'\n",
      "\n"
     ]
    }
   ],
   "source": [
    "BiocManager::install(\"dplyr\")"
   ]
  },
  {
   "cell_type": "code",
   "execution_count": 10,
   "id": "befb98a3",
   "metadata": {},
   "outputs": [
    {
     "name": "stderr",
     "output_type": "stream",
     "text": [
      "'getOption(\"repos\")' replaces Bioconductor standard repositories, see\n",
      "'help(\"repositories\", package = \"BiocManager\")' for details.\n",
      "Replacement repositories:\n",
      "    CRAN: https://cran.r-project.org\n",
      "\n",
      "Bioconductor version 3.18 (BiocManager 1.30.22), R 4.3.1 (2023-06-16)\n",
      "\n",
      "Installing package(s) 'RUVSeq'\n",
      "\n",
      "also installing the dependencies ‘BiocFileCache’, ‘RSQLite’, ‘KEGGREST’, ‘rtracklayer’, ‘ShortRead’, ‘biomaRt’, ‘AnnotationDbi’, ‘GenomicFeatures’, ‘EDASeq’\n",
      "\n",
      "\n",
      "Updating HTML index of packages in '.Library'\n",
      "\n",
      "Making 'packages.html' ...\n",
      " done\n",
      "\n",
      "Old packages: 'evaluate', 'htmltools', 'rlang'\n",
      "\n"
     ]
    }
   ],
   "source": [
    "BiocManager::install(\"RUVSeq\")"
   ]
  },
  {
   "cell_type": "code",
   "execution_count": 2,
   "id": "86fb02a1",
   "metadata": {},
   "outputs": [
    {
     "name": "stderr",
     "output_type": "stream",
     "text": [
      "'getOption(\"repos\")' replaces Bioconductor standard repositories, see\n",
      "'help(\"repositories\", package = \"BiocManager\")' for details.\n",
      "Replacement repositories:\n",
      "    CRAN: https://cran.r-project.org\n",
      "\n",
      "Bioconductor version 3.16 (BiocManager 1.30.21.1), R 4.2.0 (2022-04-22)\n",
      "\n",
      "Installing package(s) 'NanoStringDiff'\n",
      "\n",
      "Updating HTML index of packages in '.Library'\n",
      "\n",
      "Making 'packages.html' ...\n",
      " done\n",
      "\n",
      "Old packages: 'BiocManager', 'cpp11', 'crayon', 'DEoptimR', 'digest',\n",
      "  'evaluate', 'fansi', 'fs', 'IRkernel', 'jsonlite', 'nlme', 'pbdZMQ', 'repr',\n",
      "  'tinytex', 'utf8', 'xfun'\n",
      "\n"
     ]
    }
   ],
   "source": [
    "BiocManager::install(\"NanoStringDiff\")"
   ]
  },
  {
   "cell_type": "code",
   "execution_count": 1,
   "id": "22810a96",
   "metadata": {},
   "outputs": [
    {
     "name": "stderr",
     "output_type": "stream",
     "text": [
      "'getOption(\"repos\")' replaces Bioconductor standard repositories, see\n",
      "'help(\"repositories\", package = \"BiocManager\")' for details.\n",
      "Replacement repositories:\n",
      "    CRAN: https://cran.r-project.org\n",
      "\n",
      "Bioconductor version 3.16 (BiocManager 1.30.21.1), R 4.2.0 (2022-04-22)\n",
      "\n",
      "Installing package(s) 'PCAtools'\n",
      "\n",
      "also installing the dependencies ‘sparseMatrixStats’, ‘ScaledMatrix’, ‘irlba’, ‘rsvd’, ‘sitmo’, ‘ggrepel’, ‘cowplot’, ‘reshape2’, ‘DelayedMatrixStats’, ‘BiocSingular’, ‘dqrng’, ‘beachmat’\n",
      "\n",
      "\n",
      "Updating HTML index of packages in '.Library'\n",
      "\n",
      "Making 'packages.html' ...\n",
      " done\n",
      "\n",
      "Old packages: 'BiocManager', 'cpp11', 'crayon', 'DEoptimR', 'digest',\n",
      "  'evaluate', 'fansi', 'fs', 'htmltools', 'IRkernel', 'jsonlite', 'nlme',\n",
      "  'pbdZMQ', 'purrr', 'RcppArmadillo', 'repr', 'reticulate', 'tinytex', 'utf8',\n",
      "  'xfun'\n",
      "\n"
     ]
    }
   ],
   "source": [
    "\n",
    "BiocManager::install(\"PCAtools\")"
   ]
  },
  {
   "cell_type": "code",
   "execution_count": 7,
   "id": "8d15c2df",
   "metadata": {},
   "outputs": [
    {
     "name": "stderr",
     "output_type": "stream",
     "text": [
      "'getOption(\"repos\")' replaces Bioconductor standard repositories, see\n",
      "'help(\"repositories\", package = \"BiocManager\")' for details.\n",
      "Replacement repositories:\n",
      "    CRAN: https://cran.r-project.org\n",
      "\n",
      "Bioconductor version 3.18 (BiocManager 1.30.22), R 4.3.1 (2023-06-16)\n",
      "\n",
      "Installing package(s) 'plotrix'\n",
      "\n",
      "Updating HTML index of packages in '.Library'\n",
      "\n",
      "Making 'packages.html' ...\n",
      " done\n",
      "\n",
      "Old packages: 'evaluate', 'htmltools', 'rlang'\n",
      "\n"
     ]
    }
   ],
   "source": [
    "\n",
    "BiocManager::install(\"plotrix\")"
   ]
  },
  {
   "cell_type": "code",
   "execution_count": 3,
   "id": "d7a1469a",
   "metadata": {},
   "outputs": [
    {
     "name": "stderr",
     "output_type": "stream",
     "text": [
      "'getOption(\"repos\")' replaces Bioconductor standard repositories, see\n",
      "'help(\"repositories\", package = \"BiocManager\")' for details.\n",
      "Replacement repositories:\n",
      "    CRAN: https://cran.r-project.org\n",
      "\n",
      "Bioconductor version 3.16 (BiocManager 1.30.21.1), R 4.2.0 (2022-04-22)\n",
      "\n",
      "Installing package(s) 'ggalt'\n",
      "\n",
      "also installing the dependencies ‘later’, ‘extrafontdb’, ‘Rttf2pt1’, ‘lazyeval’, ‘crosstalk’, ‘data.table’, ‘promises’, ‘KernSmooth’, ‘proj4’, ‘ash’, ‘maps’, ‘extrafont’, ‘plotly’\n",
      "\n",
      "\n",
      "Warning message in install.packages(...):\n",
      "“installation of package ‘proj4’ had non-zero exit status”\n",
      "Warning message in install.packages(...):\n",
      "“installation of package ‘ggalt’ had non-zero exit status”\n",
      "Updating HTML index of packages in '.Library'\n",
      "\n",
      "Making 'packages.html' ...\n",
      " done\n",
      "\n",
      "Old packages: 'BiocManager', 'cpp11', 'crayon', 'DEoptimR', 'digest',\n",
      "  'evaluate', 'fansi', 'fs', 'htmltools', 'IRkernel', 'jsonlite', 'nlme',\n",
      "  'pbdZMQ', 'purrr', 'RcppArmadillo', 'repr', 'reticulate', 'tinytex', 'utf8',\n",
      "  'xfun'\n",
      "\n"
     ]
    }
   ],
   "source": [
    "BiocManager::install(\"ggalt\")"
   ]
  },
  {
   "cell_type": "code",
   "execution_count": 1,
   "id": "2e60fc69",
   "metadata": {},
   "outputs": [
    {
     "name": "stderr",
     "output_type": "stream",
     "text": [
      "'getOption(\"repos\")' replaces Bioconductor standard repositories, see\n",
      "'help(\"repositories\", package = \"BiocManager\")' for details.\n",
      "Replacement repositories:\n",
      "    CRAN: https://cran.r-project.org\n",
      "\n",
      "Bioconductor version 3.18 (BiocManager 1.30.22), R 4.3.1 (2023-06-16)\n",
      "\n",
      "Installing package(s) 'EnhancedVolcano'\n",
      "\n",
      "also installing the dependency ‘ggrepel’\n",
      "\n",
      "\n",
      "Updating HTML index of packages in '.Library'\n",
      "\n",
      "Making 'packages.html' ...\n",
      " done\n",
      "\n",
      "Old packages: 'evaluate', 'htmltools', 'rlang', 'SparseArray'\n",
      "\n"
     ]
    }
   ],
   "source": [
    "BiocManager::install(\"EnhancedVolcano\")"
   ]
  },
  {
   "cell_type": "code",
   "execution_count": 2,
   "id": "aaced756",
   "metadata": {},
   "outputs": [
    {
     "name": "stderr",
     "output_type": "stream",
     "text": [
      "also installing the dependencies ‘later’, ‘extrafontdb’, ‘Rttf2pt1’, ‘lazyeval’, ‘crosstalk’, ‘data.table’, ‘promises’, ‘KernSmooth’, ‘proj4’, ‘ash’, ‘maps’, ‘extrafont’, ‘plotly’\n",
      "\n",
      "\n",
      "Warning message in install.packages(\"ggalt\"):\n",
      "“installation of package ‘proj4’ had non-zero exit status”\n",
      "Warning message in install.packages(\"ggalt\"):\n",
      "“installation of package ‘ggalt’ had non-zero exit status”\n",
      "Updating HTML index of packages in '.Library'\n",
      "\n",
      "Making 'packages.html' ...\n",
      " done\n",
      "\n"
     ]
    }
   ],
   "source": [
    "install.packages(\"ggalt\")"
   ]
  },
  {
   "cell_type": "code",
   "execution_count": 3,
   "id": "43c865a8-1a63-4286-a658-3a2b83230b8f",
   "metadata": {},
   "outputs": [
    {
     "name": "stderr",
     "output_type": "stream",
     "text": [
      "also installing the dependencies ‘ps’, ‘processx’, ‘backports’, ‘gargle’, ‘ids’, ‘rematch2’, ‘timechange’, ‘systemfonts’, ‘textshaping’, ‘clipr’, ‘vroom’, ‘tzdb’, ‘callr’, ‘selectr’, ‘broom’, ‘conflicted’, ‘dtplyr’, ‘forcats’, ‘googledrive’, ‘googlesheets4’, ‘haven’, ‘lubridate’, ‘modelr’, ‘ragg’, ‘readr’, ‘reprex’, ‘rstudioapi’, ‘rvest’\n",
      "\n",
      "\n",
      "Updating HTML index of packages in '.Library'\n",
      "\n",
      "Making 'packages.html' ...\n",
      " done\n",
      "\n"
     ]
    }
   ],
   "source": [
    "install.packages(\"tidyverse\")"
   ]
  },
  {
   "cell_type": "code",
   "execution_count": 2,
   "id": "628fd638-1535-4e60-985b-ad8f6058b3c9",
   "metadata": {},
   "outputs": [
    {
     "ename": "ERROR",
     "evalue": "Error in parse(text = x, srcfile = src): <text>:1:8: unexpected symbol\n1: !conda install\n           ^\n",
     "output_type": "error",
     "traceback": [
      "Error in parse(text = x, srcfile = src): <text>:1:8: unexpected symbol\n1: !conda install\n           ^\nTraceback:\n"
     ]
    }
   ],
   "source": [
    "!conda install -c conda-forge r-ggalt"
   ]
  },
  {
   "cell_type": "code",
   "execution_count": 4,
   "id": "672af185-30c5-4252-835f-5f5009271533",
   "metadata": {},
   "outputs": [
    {
     "name": "stderr",
     "output_type": "stream",
     "text": [
      "'getOption(\"repos\")' replaces Bioconductor standard repositories, see\n",
      "'help(\"repositories\", package = \"BiocManager\")' for details.\n",
      "Replacement repositories:\n",
      "    CRAN: https://cran.r-project.org\n",
      "\n",
      "Bioconductor version 3.16 (BiocManager 1.30.21.1), R 4.2.0 (2022-04-22)\n",
      "\n",
      "Installing package(s) 'ShortRead'\n",
      "\n"
     ]
    },
    {
     "ename": "ERROR",
     "evalue": "Error in install.packages(...): This version of R is not set up to install source packages\nIf it was installed from an RPM, you may need the R-devel RPM\n",
     "output_type": "error",
     "traceback": [
      "Error in install.packages(...): This version of R is not set up to install source packages\nIf it was installed from an RPM, you may need the R-devel RPM\nTraceback:\n",
      "1. BiocManager::install(\"ShortRead\", force = TRUE)",
      "2. .install(pkgs, vout[[\"out_of_date\"]], instPkgs = inst, repos = repos, \n .     update = update, ask = ask, force = force, ...)",
      "3. .install_repos(pkgs, old_pkgs, instPkgs = instPkgs, lib = lib, \n .     repos = repos, force = force, ...)",
      "4. .inet_install.packages(pkgs = doing, lib = lib, repos = repos, \n .     ...)",
      "5. withCallingHandlers({\n .     tryCatch({\n .         install.packages(...)\n .     }, error = function(e) {\n .         .inet_error(e)\n .         invisible(NULL)\n .     })\n . }, warning = function(w) {\n .     msg <- conditionMessage(w)\n .     if (grepl(\"not available\", msg)) {\n .         msg <- gsub(\"this version of R\", paste0(\"Bioconductor version \", \n .             \"'\", version(), \"'\"), msg)\n .         w <- simpleWarning(msg, conditionCall(w))\n .     }\n .     .inet_warning(w)\n . })",
      "6. tryCatch({\n .     install.packages(...)\n . }, error = function(e) {\n .     .inet_error(e)\n .     invisible(NULL)\n . })",
      "7. tryCatchList(expr, classes, parentenv, handlers)",
      "8. tryCatchOne(expr, names, parentenv, handlers[[1L]])",
      "9. value[[3L]](cond)",
      "10. .inet_error(e)"
     ]
    }
   ],
   "source": [
    "BiocManager::install(\"ShortRead\",force = TRUE)"
   ]
  },
  {
   "cell_type": "code",
   "execution_count": null,
   "id": "6f543c7a-e59f-473d-afb1-621778091bd7",
   "metadata": {},
   "outputs": [],
   "source": []
  }
 ],
 "metadata": {
  "kernelspec": {
   "display_name": "R",
   "language": "R",
   "name": "ir"
  },
  "language_info": {
   "codemirror_mode": "r",
   "file_extension": ".r",
   "mimetype": "text/x-r-source",
   "name": "R",
   "pygments_lexer": "r",
   "version": "4.3.1"
  }
 },
 "nbformat": 4,
 "nbformat_minor": 5
}
